{
 "cells": [
  {
   "cell_type": "code",
   "execution_count": 65,
   "metadata": {},
   "outputs": [
    {
     "data": {
      "text/plain": [
       "[0, 17, 34, 51, 68, 85]"
      ]
     },
     "execution_count": 65,
     "metadata": {},
     "output_type": "execute_result"
    }
   ],
   "source": [
    "# Examples\n",
    "\n",
    "# 17,x,13,19          -> 3417.\n",
    "# 67,7,59,61          -> 754018.\n",
    "# 67,x,7,59,61        -> 779210.\n",
    "# 67,7,x,59,61        -> 1261476.\n",
    "# 1789,37,47,1889     -> 1202161486.\n",
    "# 7,13,x,x,59,x,31,19 -> 1068781\n",
    "\n",
    "# Let's explore with 17,x,13,19 / 3417\n",
    "\n",
    "# We have the following offsets:\n",
    "b_o = [(17, 0), (13, 2), (19, 3)]\n",
    "\n",
    "# To find all multiples of 17 with offset 0:\n",
    "[i for i in range(100) if i%17==0]"
   ]
  },
  {
   "cell_type": "code",
   "execution_count": 66,
   "metadata": {},
   "outputs": [
    {
     "data": {
      "text/plain": [
       "[11, 24, 37, 50, 63, 76, 89]"
      ]
     },
     "execution_count": 66,
     "metadata": {},
     "output_type": "execute_result"
    }
   ],
   "source": [
    "# To find all multiples of 13 with offset 2:\n",
    "[i for i in range(100) if (i+2)%13==0]"
   ]
  },
  {
   "cell_type": "code",
   "execution_count": 67,
   "metadata": {},
   "outputs": [
    {
     "data": {
      "text/plain": [
       "[0, 17, 34, 51, 68, 85]"
      ]
     },
     "execution_count": 67,
     "metadata": {},
     "output_type": "execute_result"
    }
   ],
   "source": [
    "# To find all common multiples matching both conditions:\n",
    "[f\"{i}: {i%17}, {(i+2)%13}\" for i in \n",
    "    [i for i in range(1000) if i%17==0]\n",
    "if (i+2)%13==0]\n",
    "\n",
    "# But we want to skip over those that we don't need.\n",
    "# That means for multiples of 17 with offset 0:\n",
    "[i for i in range(0, 100, 17)]\n",
    "# Now we don't need the 'if' anymore!"
   ]
  },
  {
   "cell_type": "code",
   "execution_count": 68,
   "metadata": {},
   "outputs": [
    {
     "data": {
      "text/plain": [
       "[2, 6, 10, 1, 5, 9, 0, 4, 8, 12, 3, 7, 11, 2, 6, 10, 1, 5]"
      ]
     },
     "execution_count": 68,
     "metadata": {},
     "output_type": "execute_result"
    }
   ],
   "source": [
    "# Now let's see if we find a pattern in those by adding our second value:\n",
    "base = 17\n",
    "[(i+2) % 13 for i in range(base*0, 300, base)]"
   ]
  },
  {
   "cell_type": "code",
   "execution_count": 274,
   "metadata": {},
   "outputs": [
    {
     "name": "stdout",
     "output_type": "stream",
     "text": [
      "Result: 3417.0\n",
      "\n",
      "(3417.0 + 0) % 17 = 0.0\n",
      "(3417.0 + 2) % 13 = 0.0\n",
      "(3417.0 + 3) % 19 = 0.0\n"
     ]
    }
   ],
   "source": [
    "# Ah! A cycle, with an offset of 6.\n",
    "# Let's get this offset programmatically:\n",
    "\n",
    "import itertools\n",
    "def get_cycle_offset(start: int, step: int, find: int, f_off: int) -> float:\n",
    "    for i in itertools.count(start, step):\n",
    "        if (i+f_off) % find == 0:\n",
    "            return i/base\n",
    "\n",
    "buses_with_offset = [(17,0), (13,2), (19,3)]\n",
    "\n",
    "base, offset = buses_with_offset[0]\n",
    "step = 1\n",
    "for find, off in buses_with_offset[1:]:\n",
    "    offset = get_cycle_offset(start=base*offset, step=base*step, find=find, f_off=off)\n",
    "    step *= find\n",
    "\n",
    "# We try to find 3417\n",
    "result = base*offset\n",
    "print(f\"Result: {result}\\n\")\n",
    "\n",
    "for b, o in buses_with_offset:\n",
    "    print(f\"({result} + {o}) % {b} = {(result + o) % b}\")"
   ]
  },
  {
   "cell_type": "code",
   "execution_count": 275,
   "metadata": {},
   "outputs": [
    {
     "name": "stdout",
     "output_type": "stream",
     "text": [
      "Result: 1068781.0\n",
      "\n",
      "(1068781.0 + 0) % 7 = 0.0\n",
      "(1068781.0 + 1) % 13 = 0.0\n",
      "(1068781.0 + 4) % 59 = 0.0\n",
      "(1068781.0 + 6) % 31 = 0.0\n",
      "(1068781.0 + 7) % 19 = 0.0\n"
     ]
    }
   ],
   "source": [
    "# This seems to work. Let's try bigger numbers.\n",
    "# 67,7,59,61          -> 754018.\n",
    "# 67,x,7,59,61        -> 779210.\n",
    "# 7,13,x,x,59,x,31,19 -> 1068781\n",
    "\n",
    "buses_with_offset = [(7,0),(13,1),(59,4),(31,6),(19,7)]\n",
    "\n",
    "base, offset = buses_with_offset[0]\n",
    "step = 1\n",
    "for find, off in buses_with_offset[1:]:\n",
    "    offset = get_cycle_offset(start=base*offset, step=base*step, find=find, f_off=off)\n",
    "    step *= find\n",
    "\n",
    "result = base * offset\n",
    "print(f\"Result: {result}\\n\")\n",
    "\n",
    "for b, o in buses_with_offset:\n",
    "    print(f\"({result} + {o}) % {b} = {(result + o) % b}\")"
   ]
  },
  {
   "cell_type": "code",
   "execution_count": 269,
   "metadata": {},
   "outputs": [
    {
     "data": {
      "text/plain": [
       "['102 : 0',\n",
       " '323 : 0',\n",
       " '544 : 0',\n",
       " '765 : 0',\n",
       " '986 : 0',\n",
       " '1207 : 0',\n",
       " '1428 : 0',\n",
       " '1649 : 0',\n",
       " '1870 : 0',\n",
       " '2091 : 0',\n",
       " '2312 : 0',\n",
       " '2533 : 0',\n",
       " '2754 : 0',\n",
       " '2975 : 0',\n",
       " '3196 : 0',\n",
       " '3417 : 0',\n",
       " '3638 : 0',\n",
       " '3859 : 0']"
      ]
     },
     "execution_count": 269,
     "metadata": {},
     "output_type": "execute_result"
    }
   ],
   "source": [
    "# Now let's develop a formula to arrive from a base and a step (cycle) at an offset\n",
    "base = 17\n",
    "following = 13\n",
    "offset = 6\n",
    "\n",
    "start = base * offset\n",
    "step = base * following\n",
    "\n",
    "[f\"{i} : {(i+2) % 13}\" for i in range(start, 4000, step)]"
   ]
  },
  {
   "cell_type": "code",
   "execution_count": 273,
   "metadata": {},
   "outputs": [
    {
     "data": {
      "text/plain": [
       "[(3417, 0)]"
      ]
     },
     "execution_count": 273,
     "metadata": {},
     "output_type": "execute_result"
    }
   ],
   "source": [
    "# It seems as though we need to multiply the start by the offset, and the step by the step\n",
    "base = 17\n",
    "offset = 6\n",
    "offset = get_cycle_offset(start=base*offset, step=base*13, find=19, f_off=3)\n",
    "\n",
    "[(i, (i+3)%19) for i in range(int(base*offset), 4000, base*13*19)]"
   ]
  }
 ],
 "metadata": {
  "kernelspec": {
   "display_name": "Python 3",
   "language": "python",
   "name": "python3"
  },
  "language_info": {
   "codemirror_mode": {
    "name": "ipython",
    "version": 3
   },
   "file_extension": ".py",
   "mimetype": "text/x-python",
   "name": "python",
   "nbconvert_exporter": "python",
   "pygments_lexer": "ipython3",
   "version": "3.8.5"
  }
 },
 "nbformat": 4,
 "nbformat_minor": 4
}
